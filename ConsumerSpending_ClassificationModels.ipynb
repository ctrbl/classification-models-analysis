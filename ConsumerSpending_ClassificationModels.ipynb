{
 "cells": [
  {
   "cell_type": "markdown",
   "metadata": {},
   "source": [
    "# Analysis of Classification Models on Consumer Personality Analysis Dataset\n",
    "Dataset: Consumer Personality Analysis (https://www.kaggle.com/datasets/imakash3011/customer-personality-analysis/data)\n"
   ]
  },
  {
   "cell_type": "markdown",
   "metadata": {},
   "source": [
    "## Objective\n",
    "Using consumers' demographics, income, customer tenure, engagement, and spending behavior, classify them into 4 categories:\n",
    "1. Loyalists: Long-term customers with high income and high spending\n",
    "2. Potential Spenders: New customers with high income and high spending\n",
    "3. At-Risk Customers: Long-term customers with significantly decreasing spending\n",
    "4. Budget Customers: Customers with below-average income and low spending (mostly when discounts are available)"
   ]
  },
  {
   "cell_type": "markdown",
   "metadata": {},
   "source": [
    "## Import Libraries and Data"
   ]
  },
  {
   "cell_type": "code",
   "execution_count": null,
   "metadata": {},
   "outputs": [],
   "source": [
    "import numpy as np\n",
    "import pandas as pd\n",
    "import matplotlib\n",
    "from sklearn.preprocessing import StandardScaler, normalize\n",
    "from sklearn import metrics"
   ]
  }
 ],
 "metadata": {
  "language_info": {
   "name": "python"
  }
 },
 "nbformat": 4,
 "nbformat_minor": 2
}
